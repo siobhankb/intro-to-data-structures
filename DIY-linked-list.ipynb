{
 "cells": [
  {
   "cell_type": "markdown",
   "id": "a9311f57",
   "metadata": {},
   "source": [
    "# Homework"
   ]
  },
  {
   "cell_type": "markdown",
   "id": "cf0067ba",
   "metadata": {},
   "source": [
    "#### Problem 1: Linked Lists\n",
    "\n",
    "Using the above examples as a guide, create your own interpretation of the a Linked List class. You can not use the code above exactly, but again it can be used as a guide. This problem requires you to think about how a linked list works and create one using your own logic.\n",
    "\n",
    "*Remember* A Linked List is a list of Nodes that point to the next node in the chain. The first Node starts out as Empty(None) and each node after points to the next.\n",
    "\n",
    "Your Linked List should have a traverse method and have the ability to add a new node"
   ]
  },
  {
   "cell_type": "code",
   "execution_count": 25,
   "id": "4ebbb770",
   "metadata": {},
   "outputs": [],
   "source": [
    "# can search Code Wars tags for linked list katas"
   ]
  },
  {
   "cell_type": "code",
   "execution_count": null,
   "id": "0a496919",
   "metadata": {},
   "outputs": [],
   "source": [
    "# create a linked list for a fire safety calling tree\n",
    "\n",
    "# Kevin --> Carol -- > Gail J --> Siobhan\n",
    "\n",
    "# Kevin --> ['Carol', 'Taylor', 'Pam', 'Wally']\n",
    "#             Carol --> ['Gail J', 'Bob M', 'Beth K', 'Cheryl']\n",
    "#                      Taylor --> ['Christy', 'Gail S', 'Rene', '']\n",
    "\n",
    "# I thought you would be able to have nodes point to more than one node... there were "
   ]
  },
  {
   "cell_type": "code",
   "execution_count": 31,
   "id": "ee73b706",
   "metadata": {},
   "outputs": [],
   "source": [
    "class callBranch:\n",
    "    def __init__(self, name):\n",
    "        self.name = name\n",
    "        self.tocall = None\n",
    "    \n",
    "    def __str__(self):\n",
    "        return f\"{self.name}-->\"\n",
    "    \n",
    "    def __repr__(self):\n",
    "        return f\"callBranch name: {self.name} | callBranch tocall: {self.tocall}\"\n",
    "\n",
    "class callTree:\n",
    "    \n",
    "    def __init__(self):\n",
    "        self.root = None\n",
    "    \n",
    "    def new_branch(self, name, tocall = None):\n",
    "        branch = callBranch(name)\n",
    "        branch.tocall = tocall\n",
    "        if self.root == None:\n",
    "            self.root = branch\n",
    "        else:\n",
    "            limb = self.root\n",
    "            while limb.tocall != None:\n",
    "                limb = limb.tocall\n",
    "            limb.tocall = branch\n",
    "    \n",
    "    def get_caller(self, caller_to_get):\n",
    "        find = self.root\n",
    "        while find != None:\n",
    "            if find.name == caller_to_get:\n",
    "                return find\n",
    "            find = find.tocall\n",
    "    \n",
    "    def insert_caller(self, caller, name):\n",
    "        previous_caller = self.get_caller(caller)\n",
    "        new_branch = callBranch(name)\n",
    "        new_branch.tocall = previous_caller.tocall\n",
    "        previous_caller.tocall = new_branch\n",
    "    \n",
    "    def traverse_tree(self):\n",
    "        branch = self.root\n",
    "        while branch != None:\n",
    "            print(branch)\n",
    "            branch = branch.tocall"
   ]
  },
  {
   "cell_type": "code",
   "execution_count": 33,
   "id": "88c34c84",
   "metadata": {},
   "outputs": [
    {
     "name": "stdout",
     "output_type": "stream",
     "text": [
      "Kevin-->\n",
      "Carol-->\n",
      "Gail J-->\n",
      "=========================\n",
      "Kevin-->\n",
      "Carol-->\n",
      "Pam-->\n",
      "Gail J-->\n"
     ]
    }
   ],
   "source": [
    "uucm = callTree()\n",
    "uucm.new_branch('Kevin')\n",
    "uucm.new_branch('Carol')\n",
    "uucm.new_branch('Gail J')\n",
    "uucm.traverse_tree()\n",
    "print('=' * 25)\n",
    "# make Carol call Pam\n",
    "# Pam call Gail\n",
    "uucm.insert_caller('Carol', 'Pam')\n",
    "uucm.traverse_tree()\n"
   ]
  }
 ],
 "metadata": {
  "kernelspec": {
   "display_name": "Python 3 (ipykernel)",
   "language": "python",
   "name": "python3"
  },
  "language_info": {
   "codemirror_mode": {
    "name": "ipython",
    "version": 3
   },
   "file_extension": ".py",
   "mimetype": "text/x-python",
   "name": "python",
   "nbconvert_exporter": "python",
   "pygments_lexer": "ipython3",
   "version": "3.9.7"
  }
 },
 "nbformat": 4,
 "nbformat_minor": 5
}
