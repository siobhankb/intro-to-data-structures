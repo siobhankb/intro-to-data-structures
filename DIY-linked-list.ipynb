{
 "cells": [
  {
   "cell_type": "markdown",
   "id": "87a9b3e1",
   "metadata": {},
   "source": [
    "# Homework"
   ]
  },
  {
   "cell_type": "markdown",
   "id": "b4fe0c32",
   "metadata": {},
   "source": [
    "#### Problem 1: Linked Lists\n",
    "\n",
    "Using the above examples as a guide, create your own interpretation of the a Linked List class. You can not use the code above exactly, but again it can be used as a guide. This problem requires you to think about how a linked list works and create one using your own logic.\n",
    "\n",
    "*Remember* A Linked List is a list of Nodes that point to the next node in the chain. The first Node starts out as Empty(None) and each node after points to the next.\n",
    "\n",
    "Your Linked List should have a traverse method and have the ability to add a new node"
   ]
  },
  {
   "cell_type": "code",
   "execution_count": 25,
   "id": "67b884dd",
   "metadata": {},
   "outputs": [],
   "source": [
    "# can search Code Wars tags for linked list katas"
   ]
  },
  {
   "cell_type": "code",
   "execution_count": null,
   "id": "100e69c2",
   "metadata": {},
   "outputs": [],
   "source": [
    "# create a linked list for a fire safety calling tree\n",
    "\n",
    "# Kevin --> Carol -- > Gail J --> Siobhan\n",
    "\n",
    "# Kevin --> ['Carol', 'Taylor', 'Pam', 'Wally']\n",
    "# Carol --> ['Gail J', 'Bob M', 'Beth K', 'Cheryl']\n",
    "# Taylor --> ['Christy', 'Gail S', 'Rene', '']"
   ]
  },
  {
   "cell_type": "code",
   "execution_count": null,
   "id": "e286ad7c",
   "metadata": {},
   "outputs": [],
   "source": [
    "class callBranch:\n",
    "    def __init__(self, name):\n",
    "        self.name = name\n",
    "        self.tocall = None\n",
    "        \n",
    "\n",
    "class callTree:\n",
    "    \n",
    "    def __init__(self):\n",
    "        self.root = None\n",
    "    \n",
    "    # add a new person to an existing caller's list\n",
    "    def new_branch(self, name, tocall = None):\n",
    "        self.caller = callBranch(caller)\n",
    "        self.tocall = tocall\n",
    "        self.root = self.name\n",
    "    \n",
    "    def insert_branch(self, caller, new_branch_list):\n",
    "        \n",
    "    "
   ]
  }
 ],
 "metadata": {
  "kernelspec": {
   "display_name": "Python 3 (ipykernel)",
   "language": "python",
   "name": "python3"
  },
  "language_info": {
   "codemirror_mode": {
    "name": "ipython",
    "version": 3
   },
   "file_extension": ".py",
   "mimetype": "text/x-python",
   "name": "python",
   "nbconvert_exporter": "python",
   "pygments_lexer": "ipython3",
   "version": "3.9.7"
  }
 },
 "nbformat": 4,
 "nbformat_minor": 5
}
