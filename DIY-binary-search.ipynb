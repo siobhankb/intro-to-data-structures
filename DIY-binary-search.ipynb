{
 "cells": [
  {
   "cell_type": "markdown",
   "id": "32375872",
   "metadata": {},
   "source": [
    "### Write code for a binary search without looking at instructor's solution\n"
   ]
  },
  {
   "cell_type": "code",
   "execution_count": null,
   "id": "46a15551",
   "metadata": {},
   "outputs": [],
   "source": [
    "class Btree:\n",
    "    \n",
    "    def __init__(self, value, parent = None):\n",
    "        self.value = value\n",
    "        self.left = None\n",
    "        self.right = None\n",
    "    \n",
    "    def insert(self, new_value):\n",
    "        # if value is <, add to left\n",
    "        if new_value < self.value:\n",
    "            if self.left != None:\n",
    "                self.left = Btree(new_value)\n",
    "            else:\n",
    "                self.left = insert(new_value)\n",
    "        # if value is = or >, add to right         \n",
    "        else:\n",
    "            if self.right != None:\n",
    "                self.right = Btree(new_value)\n",
    "            else:\n",
    "                self.right = insert(new_value)\n",
    "\n",
    "    def find(self, search_val):\n",
    "        if search_val == self.value:\n",
    "            return True\n",
    "        elif search_val < self.value:\n",
    "            self.left.find(search_val)\n",
    "        elif search_val > self.value:\n",
    "            self.right.find(search_val)\n",
    "        else:\n",
    "            return False\n",
    "    \n",
    "    def max_leaf(self):\n",
    "        if self.right is None:\n",
    "            return self.value\n",
    "        else:\n",
    "            return max_leaf(self.right)\n",
    "        \n",
    "    def min_leaf(self):\n",
    "        if self.left is None:\n",
    "            return self.value\n",
    "        else:\n",
    "            return min_leaf(self.left)\n",
    "\n",
    "    "
   ]
  }
 ],
 "metadata": {
  "kernelspec": {
   "display_name": "Python 3 (ipykernel)",
   "language": "python",
   "name": "python3"
  },
  "language_info": {
   "codemirror_mode": {
    "name": "ipython",
    "version": 3
   },
   "file_extension": ".py",
   "mimetype": "text/x-python",
   "name": "python",
   "nbconvert_exporter": "python",
   "pygments_lexer": "ipython3",
   "version": "3.9.7"
  }
 },
 "nbformat": 4,
 "nbformat_minor": 5
}
