{
 "cells": [
  {
   "cell_type": "markdown",
   "id": "48d35830",
   "metadata": {},
   "source": [
    "#### Problem 2: Binary Search Tree\n",
    "\n",
    "Using the above examples as a guide, create your own interpretation of the a Binary Search Tree class. You can not use the code above exactly, but again it can be used as a guide. This problem requires you to think about how a Binary Search Tree works and create one using your own logic.\n",
    "\n",
    "*Remember* Binary Search Trees start with a head node and each node to the left of that will be smaller, each node to the right of it will be greater. The far left node should be the lowest number(if one exists) that is available. The far right node (if one exists) should be the greatest number"
   ]
  },
  {
   "cell_type": "code",
   "execution_count": null,
   "id": "ad9dbff0",
   "metadata": {},
   "outputs": [],
   "source": [
    "# make a tree that keeps high scores from a game\n"
   ]
  },
  {
   "cell_type": "markdown",
   "id": "e8a9179f",
   "metadata": {},
   "source": [
    "### Write code for a binary search without looking at instructor's solution\n"
   ]
  },
  {
   "cell_type": "code",
   "execution_count": 60,
   "id": "db838d49",
   "metadata": {},
   "outputs": [],
   "source": [
    "class Btree:\n",
    "    \n",
    "    def __init__(self, value, parent = None):\n",
    "        self.value = value\n",
    "        self.left = None\n",
    "        self.right = None\n",
    "                \n",
    "    def insert(self, new_value):\n",
    "        # if value is <, add to left\n",
    "        if new_value < self.value:\n",
    "            if self.left == None:\n",
    "                self.left = Btree(new_value)\n",
    "            else:\n",
    "                self.left.insert(new_value)\n",
    "        # if value is = or >, add to right         \n",
    "        else:\n",
    "            if self.right == None:\n",
    "                self.right = Btree(new_value)\n",
    "            else:\n",
    "                self.right.insert(new_value)\n",
    "\n",
    "    def find(self, search_val):\n",
    "        if search_val < self.value:\n",
    "            if self.left is None:\n",
    "                return False\n",
    "            else:\n",
    "                return self.left.find(search_val)\n",
    "        elif search_val > self.value:\n",
    "            if self.right is None:\n",
    "                return False\n",
    "            else:\n",
    "                return self.right.find(search_val)\n",
    "        else:\n",
    "            return True       \n",
    "        \n",
    "        \n",
    "    def max_leaf(self):\n",
    "        if self.right is None:\n",
    "            return self.value\n",
    "        else:\n",
    "            return self.right.max_leaf()\n",
    "    \n",
    "    def min_leaf(self):\n",
    "        if self.left is None:\n",
    "            return self.value\n",
    "        else:\n",
    "            return self.left.min_leaf()\n"
   ]
  },
  {
   "cell_type": "code",
   "execution_count": 61,
   "id": "a0ba05e7",
   "metadata": {},
   "outputs": [
    {
     "name": "stdout",
     "output_type": "stream",
     "text": [
      "True\n",
      "True\n",
      "False\n",
      "78\n",
      "31\n"
     ]
    }
   ],
   "source": [
    "high_score = Btree(50)\n",
    "high_score.insert(45)\n",
    "high_score.insert(62)\n",
    "high_score.insert(31)\n",
    "high_score.insert(78)\n",
    "\n",
    "print(high_score.find(31))\n",
    "print(high_score.find(78))\n",
    "print(high_score.find(12))\n",
    "\n",
    "print(high_score.max_leaf())\n",
    "print(high_score.min_leaf())"
   ]
  }
 ],
 "metadata": {
  "kernelspec": {
   "display_name": "Python 3 (ipykernel)",
   "language": "python",
   "name": "python3"
  },
  "language_info": {
   "codemirror_mode": {
    "name": "ipython",
    "version": 3
   },
   "file_extension": ".py",
   "mimetype": "text/x-python",
   "name": "python",
   "nbconvert_exporter": "python",
   "pygments_lexer": "ipython3",
   "version": "3.9.7"
  }
 },
 "nbformat": 4,
 "nbformat_minor": 5
}
